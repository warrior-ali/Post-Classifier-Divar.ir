{
  "nbformat": 4,
  "nbformat_minor": 0,
  "metadata": {
    "colab": {
      "provenance": [],
      "gpuType": "T4"
    },
    "kernelspec": {
      "name": "python3",
      "display_name": "Python 3"
    },
    "language_info": {
      "name": "python"
    },
    "gpuClass": "standard"
  },
  "cells": [
    {
      "cell_type": "markdown",
      "source": [
        "# Experiment 4\n",
        "Code Overview :\n",
        "\n",
        "+ select three features manually. description - title - price\n",
        "+ FastText to get embedding of non numeric features\n",
        "+ AutoEncoder for dimention reduction\n",
        "+ upsampling and augmentation to solve unbalanced dataset problem\n"
      ],
      "metadata": {
        "id": "VHy4uC4MhZNh"
      }
    },
    {
      "cell_type": "code",
      "source": [
        "!pip install hazm"
      ],
      "metadata": {
        "colab": {
          "base_uri": "https://localhost:8080/"
        },
        "id": "QGjwLdZ-esUR",
        "outputId": "768953dd-a6f7-4768-ba84-293c837072c9"
      },
      "execution_count": 1,
      "outputs": [
        {
          "output_type": "stream",
          "name": "stdout",
          "text": [
            "Looking in indexes: https://pypi.org/simple, https://us-python.pkg.dev/colab-wheels/public/simple/\n",
            "Requirement already satisfied: hazm in /usr/local/lib/python3.9/dist-packages (0.7.0)\n",
            "Requirement already satisfied: nltk==3.3 in /usr/local/lib/python3.9/dist-packages (from hazm) (3.3)\n",
            "Requirement already satisfied: libwapiti>=0.2.1 in /usr/local/lib/python3.9/dist-packages (from hazm) (0.2.1)\n",
            "Requirement already satisfied: six in /usr/local/lib/python3.9/dist-packages (from nltk==3.3->hazm) (1.16.0)\n"
          ]
        }
      ]
    },
    {
      "cell_type": "code",
      "execution_count": 28,
      "metadata": {
        "id": "s7kLrk8pZQsB"
      },
      "outputs": [],
      "source": [
        "import matplotlib.pyplot as plt\n",
        "import seaborn as sns\n",
        "import numpy as np\n",
        "from hazm import Normalizer, sent_tokenize,word_tokenize,Lemmatizer,Stemmer\n",
        "from sklearn.feature_extraction.text import TfidfVectorizer\n",
        "from sklearn import datasets\n",
        "import pandas as pd \n",
        "from sklearn.preprocessing import StandardScaler \n",
        "from sklearn.decomposition import PCA \n",
        "from sklearn.decomposition import TruncatedSVD\n",
        "from sklearn.model_selection import train_test_split\n",
        "from sklearn.linear_model import LogisticRegression\n",
        "from sklearn.metrics import  f1_score, accuracy_score, confusion_matrix\n",
        "import codecs\n",
        "import torch\n",
        "from gensim.models.fasttext import FastText\n",
        "import math\n"
      ]
    },
    {
      "cell_type": "code",
      "source": [
        "divar_df = pd.read_csv('divar_sample_10k.csv')"
      ],
      "metadata": {
        "id": "w56ycPqlez-w"
      },
      "execution_count": 3,
      "outputs": []
    },
    {
      "cell_type": "code",
      "source": [
        "input_x = divar_df[np.setdiff1d(divar_df.columns, ['cat1'])]\n",
        "output_y = divar_df['cat1']"
      ],
      "metadata": {
        "id": "Pb16sFZpe2RI"
      },
      "execution_count": 4,
      "outputs": []
    },
    {
      "cell_type": "markdown",
      "source": [
        "## Preprocess non numeric features\n",
        "+ Normalizing \n",
        "+ Remove Stopwords"
      ],
      "metadata": {
        "id": "TLQSVF-6k-vL"
      }
    },
    {
      "cell_type": "code",
      "source": [
        "normalizer = Normalizer()\n",
        "stopwords = [normalizer.normalize(x.strip()) for x in codecs.open(\n",
        "    'stopwords.txt', 'r', 'utf-8').readlines()]\n",
        "stopwords.extend(['تماس', 'تلگرام', 'واتساپ', 'با سلام', 'سلام', 'فروش', 'فوری',\n",
        "                 'قیمت', 'مقطوع', 'تخفیف', 'نو', 'در حد نو', 'خرید', 'اقساطی', 'تحویل', 'اقساط'])"
      ],
      "metadata": {
        "id": "AwIkpeoAfUcQ"
      },
      "execution_count": 5,
      "outputs": []
    },
    {
      "cell_type": "code",
      "source": [
        "for idx , sent in enumerate(input_x['desc']):\n",
        "    sent = normalizer.normalize(sent)\n",
        "    input_x['desc'][idx] = '  '.join([str(elem) for elem in [t for t in word_tokenize(sent) if t not in stopwords]])\n",
        "    if idx % 1000 == 0:\n",
        "      print(idx)"
      ],
      "metadata": {
        "colab": {
          "base_uri": "https://localhost:8080/"
        },
        "id": "iStmhIsJfUvV",
        "outputId": "fc8df6b4-0cf6-4631-a857-82509f901922"
      },
      "execution_count": 6,
      "outputs": [
        {
          "output_type": "stream",
          "name": "stderr",
          "text": [
            "<ipython-input-6-f34843c4209b>:3: SettingWithCopyWarning: \n",
            "A value is trying to be set on a copy of a slice from a DataFrame\n",
            "\n",
            "See the caveats in the documentation: https://pandas.pydata.org/pandas-docs/stable/user_guide/indexing.html#returning-a-view-versus-a-copy\n",
            "  input_x['desc'][idx] = '  '.join([str(elem) for elem in [t for t in word_tokenize(sent) if t not in stopwords]])\n"
          ]
        },
        {
          "output_type": "stream",
          "name": "stdout",
          "text": [
            "0\n",
            "1000\n",
            "2000\n",
            "3000\n",
            "4000\n",
            "5000\n",
            "6000\n",
            "7000\n",
            "8000\n",
            "9000\n"
          ]
        }
      ]
    },
    {
      "cell_type": "code",
      "source": [
        "for idx , sent in enumerate(input_x['title']):\n",
        "    sent = normalizer.normalize(sent)\n",
        "    input_x['title'][idx] = '  '.join([str(elem) for elem in [t for t in word_tokenize(sent) if t not in stopwords]])\n",
        "    if idx % 1000 == 0:\n",
        "      print(idx)"
      ],
      "metadata": {
        "colab": {
          "base_uri": "https://localhost:8080/"
        },
        "id": "-McDUQ98hefw",
        "outputId": "4a7e14fc-3a55-4497-b826-6d3cf79cea2c"
      },
      "execution_count": 7,
      "outputs": [
        {
          "output_type": "stream",
          "name": "stderr",
          "text": [
            "<ipython-input-7-3e008e98ddc5>:3: SettingWithCopyWarning: \n",
            "A value is trying to be set on a copy of a slice from a DataFrame\n",
            "\n",
            "See the caveats in the documentation: https://pandas.pydata.org/pandas-docs/stable/user_guide/indexing.html#returning-a-view-versus-a-copy\n",
            "  input_x['title'][idx] = '  '.join([str(elem) for elem in [t for t in word_tokenize(sent) if t not in stopwords]])\n"
          ]
        },
        {
          "output_type": "stream",
          "name": "stdout",
          "text": [
            "0\n",
            "1000\n",
            "2000\n",
            "3000\n",
            "4000\n",
            "5000\n",
            "6000\n",
            "7000\n",
            "8000\n",
            "9000\n"
          ]
        }
      ]
    },
    {
      "cell_type": "markdown",
      "source": [
        "## FastText\n",
        "+ Training fasttext model\n",
        "+ Get embedding of each element"
      ],
      "metadata": {
        "id": "LnEVp6mkmkag"
      }
    },
    {
      "cell_type": "code",
      "source": [
        "desc_list = list(input_x['desc'])\n",
        "titles_list = list(input_x['title'])\n",
        "desc_word_tokens = [word_tokenize(i) for i in desc_list]\n",
        "title_word_tokens = [word_tokenize(i) for i in titles_list]"
      ],
      "metadata": {
        "id": "6QDWWdIxfGux"
      },
      "execution_count": 8,
      "outputs": []
    },
    {
      "cell_type": "code",
      "source": [
        "embedding_size = 300\n",
        "window_size = 5\n",
        "min_word = 5\n",
        "down_sampling = 1e-2\n",
        " \n",
        "desc_fast_Text_model = FastText(desc_word_tokens,\n",
        "                      vector_size =embedding_size,\n",
        "                      window=window_size,\n",
        "                      min_count=min_word,\n",
        "                      sample=down_sampling,\n",
        "                      workers = 4,\n",
        "                      sg=1,\n",
        "                      epochs=50)\n",
        "\n",
        "title_fast_Text_model = FastText(title_word_tokens,\n",
        "                      vector_size =embedding_size,\n",
        "                      window=window_size,\n",
        "                      min_count=min_word,\n",
        "                      sample=down_sampling,\n",
        "                      workers = 4,\n",
        "                      sg=1,\n",
        "                      epochs=50)"
      ],
      "metadata": {
        "id": "e62khE2Xh_uw"
      },
      "execution_count": 9,
      "outputs": []
    },
    {
      "cell_type": "code",
      "source": [
        "all_desc_emb = []\n",
        "\n",
        "for idx , sent in enumerate(input_x['desc']):\n",
        "  counter = 0\n",
        "  sent_emb = []\n",
        "  if idx % 1000 == 0:\n",
        "    print(idx)\n",
        "  for token in word_tokenize(sent):\n",
        "        try:\n",
        "            token_fast_emb = desc_fast_Text_model.wv[token]\n",
        "            sent_emb.append(token_fast_emb)\n",
        "        except:\n",
        "            counter+=1\n",
        "  all_desc_emb.append(np.mean(sent_emb,axis=0))"
      ],
      "metadata": {
        "colab": {
          "base_uri": "https://localhost:8080/"
        },
        "id": "RvHHn0OZjP-o",
        "outputId": "2080fc47-a590-452b-aff7-e4b4e5fc553b"
      },
      "execution_count": 10,
      "outputs": [
        {
          "output_type": "stream",
          "name": "stdout",
          "text": [
            "0\n",
            "1000\n"
          ]
        },
        {
          "output_type": "stream",
          "name": "stderr",
          "text": [
            "/usr/local/lib/python3.9/dist-packages/numpy/core/fromnumeric.py:3474: RuntimeWarning: Mean of empty slice.\n",
            "  return _methods._mean(a, axis=axis, dtype=dtype,\n",
            "/usr/local/lib/python3.9/dist-packages/numpy/core/_methods.py:189: RuntimeWarning: invalid value encountered in double_scalars\n",
            "  ret = ret.dtype.type(ret / rcount)\n"
          ]
        },
        {
          "output_type": "stream",
          "name": "stdout",
          "text": [
            "2000\n",
            "3000\n",
            "4000\n",
            "5000\n",
            "6000\n",
            "7000\n",
            "8000\n",
            "9000\n"
          ]
        }
      ]
    },
    {
      "cell_type": "code",
      "source": [
        "all_titles_emb = []\n",
        "\n",
        "for idx , sent in enumerate(input_x['title']):\n",
        "  counter = 0\n",
        "  sent_emb = []\n",
        "  if idx % 1000 == 0:\n",
        "    print(idx)\n",
        "  for token in word_tokenize(sent):\n",
        "        try:\n",
        "            token_fast_emb = title_fast_Text_model.wv[token]\n",
        "            sent_emb.append(token_fast_emb)\n",
        "        except:\n",
        "            counter+=1\n",
        "\n",
        "  all_titles_emb.append(np.mean(sent_emb,axis=0))"
      ],
      "metadata": {
        "colab": {
          "base_uri": "https://localhost:8080/"
        },
        "id": "Syykw6M8ky1v",
        "outputId": "86e950b0-d698-45fc-b33a-4c1d2de0b1b5"
      },
      "execution_count": 11,
      "outputs": [
        {
          "output_type": "stream",
          "name": "stdout",
          "text": [
            "0\n",
            "1000\n",
            "2000\n",
            "3000\n",
            "4000\n",
            "5000\n",
            "6000\n",
            "7000\n",
            "8000\n",
            "9000\n"
          ]
        }
      ]
    },
    {
      "cell_type": "code",
      "source": [
        "for idx , emb in enumerate(all_desc_emb):\n",
        "  if type(all_desc_emb[idx]) == np.float64:\n",
        "     all_desc_emb[idx] = np.zeros(300)\n",
        "for idx , emb in enumerate(all_titles_emb):\n",
        "  if type(all_titles_emb[idx]) == np.float64:\n",
        "     all_titles_emb[idx] = np.zeros(300)"
      ],
      "metadata": {
        "id": "63bd8rtDnebe"
      },
      "execution_count": 12,
      "outputs": []
    },
    {
      "cell_type": "code",
      "source": [
        "desc_embeddings_df = pd.DataFrame(all_desc_emb)\n",
        "title_embeddings_df = pd.DataFrame(all_titles_emb)"
      ],
      "metadata": {
        "id": "tw8DEYJIkvl5"
      },
      "execution_count": 13,
      "outputs": []
    },
    {
      "cell_type": "markdown",
      "source": [
        "### Auto-Encoder for dimention reduction\n",
        "\n",
        "source\n",
        "\n",
        "https://www.analyticsvidhya.com/blog/2021/06/dimensionality-reduction-using-autoencoders-in-python/"
      ],
      "metadata": {
        "id": "g-4czMhL4fOy"
      }
    },
    {
      "cell_type": "code",
      "source": [
        "import math\n",
        "import pandas as pd\n",
        "import tensorflow as tf\n",
        "import matplotlib.pyplot as plt\n",
        "from tensorflow.keras import Model\n",
        "from tensorflow.keras import Sequential\n",
        "from sklearn.preprocessing import StandardScaler\n",
        "from tensorflow.keras.layers import Dense, Dropout\n",
        "from sklearn.model_selection import train_test_split\n",
        "from tensorflow.keras.losses import MeanSquaredLogarithmicError"
      ],
      "metadata": {
        "id": "JzsXBkRo40K5"
      },
      "execution_count": 14,
      "outputs": []
    },
    {
      "cell_type": "code",
      "source": [
        "class AutoEncoders(Model):\n",
        "\n",
        "  def __init__(self, output_units):\n",
        "\n",
        "    super().__init__()\n",
        "    self.encoder = Sequential(\n",
        "        [\n",
        "          Dense(200, activation=\"relu\"),\n",
        "          Dense(200, activation=\"relu\"),\n",
        "          Dense(100, activation=\"relu\")\n",
        "        ]\n",
        "    )\n",
        "\n",
        "    self.decoder = Sequential(\n",
        "        [\n",
        "          Dense(200, activation=\"relu\"),\n",
        "          Dense(200, activation=\"relu\"),\n",
        "          Dense(output_units, activation=\"sigmoid\")\n",
        "        ]\n",
        "    )\n",
        "\n",
        "  def call(self, inputs):\n",
        "\n",
        "    encoded = self.encoder(inputs)\n",
        "    decoded = self.decoder(encoded)\n",
        "    return decoded\n"
      ],
      "metadata": {
        "id": "azwSBkIg49Y7"
      },
      "execution_count": 15,
      "outputs": []
    },
    {
      "cell_type": "code",
      "source": [
        "desc_embeddings_df.columns = desc_embeddings_df.columns.astype(str)\n",
        "desc_X_train, desc_X_test, desc_y_train, desc_y_test = train_test_split(desc_embeddings_df, output_y, test_size=0.25, random_state=16)\n",
        "title_embeddings_df.columns = title_embeddings_df.columns.astype(str)\n",
        "title_X_train, title_X_test, title_y_train, title_y_test = train_test_split(title_embeddings_df, output_y, test_size=0.25, random_state=16)"
      ],
      "metadata": {
        "id": "4KfGV12Q5t13"
      },
      "execution_count": 16,
      "outputs": []
    },
    {
      "cell_type": "code",
      "source": [
        "desc_auto_encoder = AutoEncoders(len(desc_X_train.columns))\n",
        "\n",
        "desc_auto_encoder.compile(\n",
        "    loss='mae',\n",
        "    metrics=['mae'],\n",
        "    optimizer='adam'\n",
        ")\n",
        "\n",
        "desc_history = desc_auto_encoder.fit(\n",
        "    desc_X_train, \n",
        "    desc_X_train, \n",
        "    epochs=15, \n",
        "    batch_size=128, \n",
        "    validation_data=(desc_X_test, desc_X_test)\n",
        ")"
      ],
      "metadata": {
        "colab": {
          "base_uri": "https://localhost:8080/"
        },
        "id": "Jx9N8Ad35n0x",
        "outputId": "0573ddea-a731-4a7f-dc7e-be5b38f3b51f"
      },
      "execution_count": 17,
      "outputs": [
        {
          "output_type": "stream",
          "name": "stdout",
          "text": [
            "Epoch 1/15\n",
            "59/59 [==============================] - 3s 18ms/step - loss: 0.1832 - mae: 0.1832 - val_loss: 0.1090 - val_mae: 0.1090\n",
            "Epoch 2/15\n",
            "59/59 [==============================] - 1s 21ms/step - loss: 0.1087 - mae: 0.1087 - val_loss: 0.1087 - val_mae: 0.1087\n",
            "Epoch 3/15\n",
            "59/59 [==============================] - 1s 21ms/step - loss: 0.1090 - mae: 0.1090 - val_loss: 0.1094 - val_mae: 0.1094\n",
            "Epoch 4/15\n",
            "59/59 [==============================] - 1s 23ms/step - loss: 0.1093 - mae: 0.1093 - val_loss: 0.1094 - val_mae: 0.1094\n",
            "Epoch 5/15\n",
            "59/59 [==============================] - 1s 15ms/step - loss: 0.1093 - mae: 0.1093 - val_loss: 0.1094 - val_mae: 0.1094\n",
            "Epoch 6/15\n",
            "59/59 [==============================] - 1s 12ms/step - loss: 0.1093 - mae: 0.1093 - val_loss: 0.1094 - val_mae: 0.1094\n",
            "Epoch 7/15\n",
            "59/59 [==============================] - 1s 11ms/step - loss: 0.1093 - mae: 0.1093 - val_loss: 0.1094 - val_mae: 0.1094\n",
            "Epoch 8/15\n",
            "59/59 [==============================] - 1s 12ms/step - loss: 0.1093 - mae: 0.1093 - val_loss: 0.1094 - val_mae: 0.1094\n",
            "Epoch 9/15\n",
            "59/59 [==============================] - 1s 11ms/step - loss: 0.1093 - mae: 0.1093 - val_loss: 0.1094 - val_mae: 0.1094\n",
            "Epoch 10/15\n",
            "59/59 [==============================] - 1s 11ms/step - loss: 0.1093 - mae: 0.1093 - val_loss: 0.1094 - val_mae: 0.1094\n",
            "Epoch 11/15\n",
            "59/59 [==============================] - 1s 11ms/step - loss: 0.1093 - mae: 0.1093 - val_loss: 0.1094 - val_mae: 0.1094\n",
            "Epoch 12/15\n",
            "59/59 [==============================] - 1s 12ms/step - loss: 0.1093 - mae: 0.1093 - val_loss: 0.1094 - val_mae: 0.1094\n",
            "Epoch 13/15\n",
            "59/59 [==============================] - 1s 11ms/step - loss: 0.1093 - mae: 0.1093 - val_loss: 0.1094 - val_mae: 0.1094\n",
            "Epoch 14/15\n",
            "59/59 [==============================] - 1s 11ms/step - loss: 0.1093 - mae: 0.1093 - val_loss: 0.1094 - val_mae: 0.1094\n",
            "Epoch 15/15\n",
            "59/59 [==============================] - 1s 12ms/step - loss: 0.1093 - mae: 0.1093 - val_loss: 0.1094 - val_mae: 0.1094\n"
          ]
        }
      ]
    },
    {
      "cell_type": "code",
      "source": [
        "encoder_layer = desc_auto_encoder.get_layer('sequential')\n",
        "desc_reduced_df = pd.DataFrame(encoder_layer.predict(desc_embeddings_df))\n",
        "desc_reduced_df = desc_reduced_df.add_prefix('feature_')"
      ],
      "metadata": {
        "colab": {
          "base_uri": "https://localhost:8080/"
        },
        "id": "c--gE2Z67isB",
        "outputId": "546bf093-4fdd-4cf0-837a-a13aed961eca"
      },
      "execution_count": 18,
      "outputs": [
        {
          "output_type": "stream",
          "name": "stdout",
          "text": [
            "313/313 [==============================] - 1s 2ms/step\n"
          ]
        }
      ]
    },
    {
      "cell_type": "code",
      "source": [
        "desc_reduced_df.to_csv('desc_reduced_df.csv')"
      ],
      "metadata": {
        "id": "_A7uvBRqIo4S"
      },
      "execution_count": 19,
      "outputs": []
    },
    {
      "cell_type": "code",
      "source": [
        "title_auto_encoder = AutoEncoders(len(title_X_train.columns))\n",
        "\n",
        "title_auto_encoder.compile(\n",
        "    loss='mae',\n",
        "    metrics=['mae'],\n",
        "    optimizer='adam'\n",
        ")\n",
        "\n",
        "title_history = title_auto_encoder.fit(\n",
        "    title_X_train, \n",
        "    title_X_train, \n",
        "    epochs=15, \n",
        "    batch_size=128, \n",
        "    validation_data=(title_X_test, title_X_test)\n",
        ")"
      ],
      "metadata": {
        "colab": {
          "base_uri": "https://localhost:8080/"
        },
        "id": "6tOfuvmOGpzR",
        "outputId": "a61921f0-85f9-4daa-c1fc-aa605a8a132a"
      },
      "execution_count": 17,
      "outputs": [
        {
          "output_type": "stream",
          "name": "stdout",
          "text": [
            "Epoch 1/15\n",
            "59/59 [==============================] - 3s 25ms/step - loss: 0.1967 - mae: 0.1967 - val_loss: 0.1272 - val_mae: 0.1272\n",
            "Epoch 2/15\n",
            "59/59 [==============================] - 1s 23ms/step - loss: 0.1299 - mae: 0.1299 - val_loss: 0.1275 - val_mae: 0.1275\n",
            "Epoch 3/15\n",
            "59/59 [==============================] - 1s 23ms/step - loss: 0.1299 - mae: 0.1299 - val_loss: 0.1275 - val_mae: 0.1275\n",
            "Epoch 4/15\n",
            "59/59 [==============================] - 1s 23ms/step - loss: 0.1299 - mae: 0.1299 - val_loss: 0.1275 - val_mae: 0.1275\n",
            "Epoch 5/15\n",
            "59/59 [==============================] - 1s 19ms/step - loss: 0.1299 - mae: 0.1299 - val_loss: 0.1275 - val_mae: 0.1275\n",
            "Epoch 6/15\n",
            "59/59 [==============================] - 2s 26ms/step - loss: 0.1299 - mae: 0.1299 - val_loss: 0.1275 - val_mae: 0.1275\n",
            "Epoch 7/15\n",
            "59/59 [==============================] - 2s 31ms/step - loss: 0.1299 - mae: 0.1299 - val_loss: 0.1275 - val_mae: 0.1275\n",
            "Epoch 8/15\n",
            "59/59 [==============================] - 2s 27ms/step - loss: 0.1299 - mae: 0.1299 - val_loss: 0.1275 - val_mae: 0.1275\n",
            "Epoch 9/15\n",
            "59/59 [==============================] - 1s 23ms/step - loss: 0.1299 - mae: 0.1299 - val_loss: 0.1275 - val_mae: 0.1275\n",
            "Epoch 10/15\n",
            "59/59 [==============================] - 1s 24ms/step - loss: 0.1299 - mae: 0.1299 - val_loss: 0.1275 - val_mae: 0.1275\n",
            "Epoch 11/15\n",
            "59/59 [==============================] - 1s 16ms/step - loss: 0.1299 - mae: 0.1299 - val_loss: 0.1275 - val_mae: 0.1275\n",
            "Epoch 12/15\n",
            "59/59 [==============================] - 1s 12ms/step - loss: 0.1299 - mae: 0.1299 - val_loss: 0.1275 - val_mae: 0.1275\n",
            "Epoch 13/15\n",
            "59/59 [==============================] - 1s 12ms/step - loss: 0.1299 - mae: 0.1299 - val_loss: 0.1275 - val_mae: 0.1275\n",
            "Epoch 14/15\n",
            "59/59 [==============================] - 1s 11ms/step - loss: 0.1299 - mae: 0.1299 - val_loss: 0.1275 - val_mae: 0.1275\n",
            "Epoch 15/15\n",
            "59/59 [==============================] - 1s 12ms/step - loss: 0.1299 - mae: 0.1299 - val_loss: 0.1275 - val_mae: 0.1275\n"
          ]
        }
      ]
    },
    {
      "cell_type": "code",
      "source": [
        "encoder_layer = title_auto_encoder.get_layer('sequential')\n",
        "title_reduced_df = pd.DataFrame(encoder_layer.predict(title_embeddings_df))\n",
        "title_reduced_df = title_reduced_df.add_prefix('feature_')"
      ],
      "metadata": {
        "colab": {
          "base_uri": "https://localhost:8080/"
        },
        "id": "HdlOwI5r7yQx",
        "outputId": "3085db8c-f4e0-49d6-da36-39e1ebb19520"
      },
      "execution_count": 18,
      "outputs": [
        {
          "output_type": "stream",
          "name": "stdout",
          "text": [
            "313/313 [==============================] - 1s 2ms/step\n"
          ]
        }
      ]
    },
    {
      "cell_type": "code",
      "source": [
        "title_reduced_df.to_csv('title_reduced_df.csv')"
      ],
      "metadata": {
        "id": "kNxruJ4lKijU"
      },
      "execution_count": null,
      "outputs": []
    },
    {
      "cell_type": "code",
      "source": [
        "desc_reduced_df = pd.read_csv('desc_reduced_df.csv')"
      ],
      "metadata": {
        "id": "LKw9BbM5PFNP"
      },
      "execution_count": 19,
      "outputs": []
    },
    {
      "cell_type": "markdown",
      "source": [
        "## Standard Scaling Entire the dataframe"
      ],
      "metadata": {
        "id": "yspWFMG6m_BH"
      }
    },
    {
      "cell_type": "code",
      "source": [
        "scalar = StandardScaler()\n",
        "numeric_scaled_features = pd.DataFrame(scalar.fit_transform(input_x[['price']]) , columns=['price'])"
      ],
      "metadata": {
        "id": "JAQ5hB4dOOtm"
      },
      "execution_count": 20,
      "outputs": []
    },
    {
      "cell_type": "code",
      "source": [
        "scalar = StandardScaler()\n",
        "desc_reduced_df = pd.DataFrame(scalar.fit_transform(desc_reduced_df.values) , columns=desc_reduced_df.columns , index=desc_reduced_df.index)"
      ],
      "metadata": {
        "id": "eRMMlwlzOwC3"
      },
      "execution_count": 21,
      "outputs": []
    },
    {
      "cell_type": "code",
      "source": [
        "scalar = StandardScaler()\n",
        "title_reduced_df = pd.DataFrame(scalar.fit_transform(title_reduced_df.values) , columns=title_reduced_df.columns , index=title_reduced_df.index)"
      ],
      "metadata": {
        "id": "1DngpVV7OSrX"
      },
      "execution_count": 22,
      "outputs": []
    },
    {
      "cell_type": "code",
      "source": [
        "title_reduced_df.columns = [i for i in range(100,200)]\n",
        "title_reduced_df = title_reduced_df.add_prefix('feature_')"
      ],
      "metadata": {
        "id": "Fh5WQLxbPadv"
      },
      "execution_count": 23,
      "outputs": []
    },
    {
      "cell_type": "code",
      "source": [
        "input_x = pd.concat([desc_reduced_df.iloc[: , 1:] , title_reduced_df , numeric_scaled_features], axis=1) "
      ],
      "metadata": {
        "id": "RgiRDdwvM6_f"
      },
      "execution_count": 24,
      "outputs": []
    },
    {
      "cell_type": "code",
      "source": [
        "input_x.columns = input_x.columns.astype(str)\n",
        "X_train, X_test, y_train, y_test = train_test_split(input_x, output_y, test_size=0.25, random_state=16)"
      ],
      "metadata": {
        "id": "gj2cKAEXQnyq"
      },
      "execution_count": 25,
      "outputs": []
    },
    {
      "cell_type": "markdown",
      "source": [
        "## Logistic Regression for classification\n",
        "\n",
        "\n"
      ],
      "metadata": {
        "id": "AY6TT54gnLu5"
      }
    },
    {
      "cell_type": "code",
      "source": [
        "def conf_matrix(y_test, pred_test):    \n",
        "    \n",
        "    # Creating a confusion matrix\n",
        "    con_mat = confusion_matrix(y_test, pred_test)\n",
        "    con_mat = pd.DataFrame(con_mat, range(6), range(6))\n",
        "   \n",
        "    #Ploting the confusion matrix\n",
        "    plt.figure(figsize=(6,6))\n",
        "    sns.set(font_scale=1.5) \n",
        "    sns.heatmap(con_mat, annot=True, annot_kws={\"size\": 16}, fmt='g', cmap='Blues', cbar=False)"
      ],
      "metadata": {
        "id": "qF_kmJ0X8Jq4"
      },
      "execution_count": 27,
      "outputs": []
    },
    {
      "cell_type": "code",
      "source": [
        "logreg = LogisticRegression(random_state=16)\n",
        "logreg.fit(X_train, y_train)\n",
        "\n",
        "y_pred = logreg.predict(X_test)"
      ],
      "metadata": {
        "colab": {
          "base_uri": "https://localhost:8080/"
        },
        "id": "tct9-zEFQq9o",
        "outputId": "244ff2b7-5c3e-4ed0-f3fa-f92b065ac7cf"
      },
      "execution_count": 29,
      "outputs": [
        {
          "output_type": "stream",
          "name": "stderr",
          "text": [
            "/usr/local/lib/python3.9/dist-packages/sklearn/linear_model/_logistic.py:458: ConvergenceWarning: lbfgs failed to converge (status=1):\n",
            "STOP: TOTAL NO. of ITERATIONS REACHED LIMIT.\n",
            "\n",
            "Increase the number of iterations (max_iter) or scale the data as shown in:\n",
            "    https://scikit-learn.org/stable/modules/preprocessing.html\n",
            "Please also refer to the documentation for alternative solver options:\n",
            "    https://scikit-learn.org/stable/modules/linear_model.html#logistic-regression\n",
            "  n_iter_i = _check_optimize_result(\n"
          ]
        }
      ]
    },
    {
      "cell_type": "code",
      "source": [
        "#Calculating and printing the f1 score \n",
        "f1_test = f1_score(y_test, y_pred , average='macro')\n",
        "print('The f1 score for the testing data:', f1_test)\n",
        "\n",
        "#Ploting the confusion matrix\n",
        "conf_matrix(y_test, y_pred)"
      ],
      "metadata": {
        "colab": {
          "base_uri": "https://localhost:8080/",
          "height": 552
        },
        "id": "0RtHYoFZ8bSI",
        "outputId": "94ecdde8-c75c-49fc-894a-27642e624892"
      },
      "execution_count": 30,
      "outputs": [
        {
          "output_type": "stream",
          "name": "stdout",
          "text": [
            "The f1 score for the testing data: 0.7212262302029061\n"
          ]
        },
        {
          "output_type": "display_data",
          "data": {
            "text/plain": [
              "<Figure size 600x600 with 1 Axes>"
            ],
            "image/png": "[encoded data removed]"
          },
          "metadata": {}
        }
      ]
    },
    {
      "cell_type": "code",
      "source": [
        "accuracy_score(y_test, y_pred)"
      ],
      "metadata": {
        "colab": {
          "base_uri": "https://localhost:8080/"
        },
        "id": "ZpV8liNIQtdP",
        "outputId": "d4caadc6-61d7-4145-dc30-b932d37ced51"
      },
      "execution_count": 31,
      "outputs": [
        {
          "output_type": "execute_result",
          "data": {
            "text/plain": [
              "0.8096"
            ]
          },
          "metadata": {},
          "execution_count": 31
        }
      ]
    },
    {
      "cell_type": "markdown",
      "source": [
        "## plot unbalanced dataset"
      ],
      "metadata": {
        "id": "Ll93yj7vnYGn"
      }
    },
    {
      "cell_type": "code",
      "source": [
        "f, ax = plt.subplots(figsize=(10,6))\n",
        "sns.histplot(data = output_y)"
      ],
      "metadata": {
        "colab": {
          "base_uri": "https://localhost:8080/",
          "height": 581
        },
        "id": "pihUGzppQ8Up",
        "outputId": "78b4a598-6eee-4085-96d6-3a776974a600"
      },
      "execution_count": 32,
      "outputs": [
        {
          "output_type": "execute_result",
          "data": {
            "text/plain": [
              "<Axes: xlabel='cat1', ylabel='Count'>"
            ]
          },
          "metadata": {},
          "execution_count": 32
        },
        {
          "output_type": "display_data",
          "data": {
            "text/plain": [
              "<Figure size 1000x600 with 1 Axes>"
            ],
            "image/png": "[encoded data removed]"
          },
          "metadata": {}
        }
      ]
    },
    {
      "cell_type": "code",
      "source": [
        "all_data_df = pd.concat([input_x ,output_y], axis=1) "
      ],
      "metadata": {
        "id": "tWcLBIgLT6kw"
      },
      "execution_count": 33,
      "outputs": []
    },
    {
      "cell_type": "code",
      "source": [
        "all_data_df.to_csv('fasttxt_without_aug_df.csv')"
      ],
      "metadata": {
        "id": "cPChl8W3gPUe"
      },
      "execution_count": 34,
      "outputs": []
    },
    {
      "cell_type": "markdown",
      "source": [
        "## Data Augmentation and upsampling"
      ],
      "metadata": {
        "id": "MoucwlM7oRvv"
      }
    },
    {
      "cell_type": "code",
      "source": [
        "g = all_data_df.groupby('cat1')\n",
        "\n",
        "categories_df = []\n",
        "\n",
        "for k,v in g:\n",
        "  categories_df.append(g.get_group(k).sample(g.size().max() , replace=True))\n",
        "\n",
        "final_df = pd.concat(categories_df, axis=0).reset_index()"
      ],
      "metadata": {
        "id": "f8b7Ql6EVYZw"
      },
      "execution_count": 35,
      "outputs": []
    },
    {
      "cell_type": "code",
      "source": [
        "final_df.to_csv('fasttxt_with_aug_df.csv')"
      ],
      "metadata": {
        "id": "IYjsiQ57gmLF"
      },
      "execution_count": null,
      "outputs": []
    },
    {
      "cell_type": "code",
      "source": [
        "input_x_final = final_df[np.setdiff1d(final_df.columns, ['cat1'])]\n",
        "output_y_final = final_df['cat1']"
      ],
      "metadata": {
        "id": "b98O0-vZd-SR"
      },
      "execution_count": 36,
      "outputs": []
    },
    {
      "cell_type": "code",
      "source": [
        "f, ax = plt.subplots(figsize=(10,6))\n",
        "sns.histplot(data = output_y_final)"
      ],
      "metadata": {
        "colab": {
          "base_uri": "https://localhost:8080/",
          "height": 581
        },
        "id": "X5uasKP9he2y",
        "outputId": "bea460e2-ece1-46e6-c0b4-e37de1d774e3"
      },
      "execution_count": 37,
      "outputs": [
        {
          "output_type": "execute_result",
          "data": {
            "text/plain": [
              "<Axes: xlabel='cat1', ylabel='Count'>"
            ]
          },
          "metadata": {},
          "execution_count": 37
        },
        {
          "output_type": "display_data",
          "data": {
            "text/plain": [
              "<Figure size 1000x600 with 1 Axes>"
            ],
            "image/png": "[encoded data removed]"
          },
          "metadata": {}
        }
      ]
    },
    {
      "cell_type": "markdown",
      "source": [
        "## check f1-score and accuracy with augmented data"
      ],
      "metadata": {
        "id": "xrVCm6ukoyEn"
      }
    },
    {
      "cell_type": "code",
      "source": [
        "input_x_final.columns = input_x_final.columns.astype(str)\n",
        "X_train, X_test, y_train, y_test = train_test_split(input_x_final, output_y_final, test_size=0.25, random_state=16 , shuffle=True)"
      ],
      "metadata": {
        "id": "Mf1S40d3c8wh"
      },
      "execution_count": 38,
      "outputs": []
    },
    {
      "cell_type": "code",
      "source": [
        "logreg = LogisticRegression(random_state=16)\n",
        "logreg.fit(X_train, y_train)\n",
        "\n",
        "y_pred = logreg.predict(X_test)"
      ],
      "metadata": {
        "colab": {
          "base_uri": "https://localhost:8080/"
        },
        "id": "l-kDt12mi1AE",
        "outputId": "483b4d6a-725b-45ad-920d-b9dd634814f1"
      },
      "execution_count": 41,
      "outputs": [
        {
          "output_type": "stream",
          "name": "stderr",
          "text": [
            "/usr/local/lib/python3.9/dist-packages/sklearn/linear_model/_logistic.py:458: ConvergenceWarning: lbfgs failed to converge (status=1):\n",
            "STOP: TOTAL NO. of ITERATIONS REACHED LIMIT.\n",
            "\n",
            "Increase the number of iterations (max_iter) or scale the data as shown in:\n",
            "    https://scikit-learn.org/stable/modules/preprocessing.html\n",
            "Please also refer to the documentation for alternative solver options:\n",
            "    https://scikit-learn.org/stable/modules/linear_model.html#logistic-regression\n",
            "  n_iter_i = _check_optimize_result(\n"
          ]
        }
      ]
    },
    {
      "cell_type": "code",
      "source": [
        "#Calculating and printing the f1 score \n",
        "f1_test = f1_score(y_test, y_pred , average='macro')\n",
        "print('The f1 score for the testing data:', f1_test)\n",
        "\n",
        "#Ploting the confusion matrix\n",
        "conf_matrix(y_test, y_pred)"
      ],
      "metadata": {
        "colab": {
          "base_uri": "https://localhost:8080/",
          "height": 552
        },
        "id": "sh4FHyM_8uzo",
        "outputId": "1b7bc6ab-9dc4-4ebb-993c-8d294643ea8c"
      },
      "execution_count": 42,
      "outputs": [
        {
          "output_type": "stream",
          "name": "stdout",
          "text": [
            "The f1 score for the testing data: 0.42467034247056423\n"
          ]
        },
        {
          "output_type": "display_data",
          "data": {
            "text/plain": [
              "<Figure size 600x600 with 1 Axes>"
            ],
            "image/png": "[encoded data removed]"
          },
          "metadata": {}
        }
      ]
    },
    {
      "cell_type": "code",
      "source": [
        "accuracy_score(y_test, y_pred)"
      ],
      "metadata": {
        "colab": {
          "base_uri": "https://localhost:8080/"
        },
        "id": "Mz8P4cqgjH1Z",
        "outputId": "e794cc81-9f91-4c63-d984-b949d1d8eac9"
      },
      "execution_count": 43,
      "outputs": [
        {
          "output_type": "execute_result",
          "data": {
            "text/plain": [
              "0.4329627207325049"
            ]
          },
          "metadata": {},
          "execution_count": 43
        }
      ]
    }
  ]
}