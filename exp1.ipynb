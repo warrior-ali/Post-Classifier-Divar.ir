{
  "cells": [
    {
      "cell_type": "markdown",
      "source": [
        "# Experiment 1\n",
        "Code Overview :\n",
        "\n",
        "+ select three features manually. description - title - price\n",
        "+ tf-idf to get embedding of non numeric features\n",
        "+ TSVD for dimention reduction\n",
        "+ here is two example. first one has dataset with non uniform distribution and \n",
        "the second one has dataset with uniform distribution.\n"
      ],
      "metadata": {
        "id": "zN-dQefqlx_b"
      }
    },
    {
      "cell_type": "code",
      "source": [
        "!pip install hazm"
      ],
      "metadata": {
        "colab": {
          "base_uri": "https://localhost:8080/"
        },
        "id": "glrAMczdvgM2",
        "outputId": "e514f92e-0654-4027-b80c-b269b09da581"
      },
      "execution_count": 1,
      "outputs": [
        {
          "output_type": "stream",
          "name": "stdout",
          "text": [
            "Looking in indexes: https://pypi.org/simple, https://us-python.pkg.dev/colab-wheels/public/simple/\n",
            "Collecting hazm\n",
            "  Downloading hazm-0.7.0-py3-none-any.whl (316 kB)\n",
            "\u001b[2K     \u001b[90m━━━━━━━━━━━━━━━━━━━━━━━━━━━━━━━━━━━━━━━\u001b[0m \u001b[32m316.7/316.7 kB\u001b[0m \u001b[31m6.4 MB/s\u001b[0m eta \u001b[36m0:00:00\u001b[0m\n",
            "\u001b[?25hCollecting libwapiti>=0.2.1\n",
            "  Downloading libwapiti-0.2.1.tar.gz (233 kB)\n",
            "\u001b[2K     \u001b[90m━━━━━━━━━━━━━━━━━━━━━━━━━━━━━━━━━━━━━━\u001b[0m \u001b[32m233.6/233.6 kB\u001b[0m \u001b[31m21.8 MB/s\u001b[0m eta \u001b[36m0:00:00\u001b[0m\n",
            "\u001b[?25h  Preparing metadata (setup.py) ... \u001b[?25l\u001b[?25hdone\n",
            "Collecting nltk==3.3\n",
            "  Downloading nltk-3.3.0.zip (1.4 MB)\n",
            "\u001b[2K     \u001b[90m━━━━━━━━━━━━━━━━━━━━━━━━━━━━━━━━━━━━━━━━\u001b[0m \u001b[32m1.4/1.4 MB\u001b[0m \u001b[31m44.4 MB/s\u001b[0m eta \u001b[36m0:00:00\u001b[0m\n",
            "\u001b[?25h  Preparing metadata (setup.py) ... \u001b[?25l\u001b[?25hdone\n",
            "Requirement already satisfied: six in /usr/local/lib/python3.9/dist-packages (from nltk==3.3->hazm) (1.16.0)\n",
            "Building wheels for collected packages: nltk, libwapiti\n",
            "  Building wheel for nltk (setup.py) ... \u001b[?25l\u001b[?25hdone\n",
            "  Created wheel for nltk: filename=nltk-3.3-py3-none-any.whl size=1394488 sha256=602f97cbe84b67c49b78b713bcd353bcfdbf50f9daf3c482e019b858a23b7789\n",
            "  Stored in directory: /root/.cache/pip/wheels/ac/62/f6/88933dadcd64a1614894614aa68cf57c4b8e5256acb650b1f1\n",
            "  Building wheel for libwapiti (setup.py) ... \u001b[?25l\u001b[?25hdone\n",
            "  Created wheel for libwapiti: filename=libwapiti-0.2.1-cp39-cp39-linux_x86_64.whl size=180344 sha256=723942ceb8a5c475ad05495f1d171aa4d4cd180fb05ff176988a86f67748a33c\n",
            "  Stored in directory: /root/.cache/pip/wheels/8e/ff/82/9326b96f96f47472e02c453697b225813e4650c0ed4df2cd49\n",
            "Successfully built nltk libwapiti\n",
            "Installing collected packages: nltk, libwapiti, hazm\n",
            "  Attempting uninstall: nltk\n",
            "    Found existing installation: nltk 3.8.1\n",
            "    Uninstalling nltk-3.8.1:\n",
            "      Successfully uninstalled nltk-3.8.1\n",
            "Successfully installed hazm-0.7.0 libwapiti-0.2.1 nltk-3.3\n"
          ]
        }
      ]
    },
    {
      "cell_type": "code",
      "execution_count": 38,
      "metadata": {
        "id": "yTNZHJnPvC01"
      },
      "outputs": [],
      "source": [
        "import matplotlib.pyplot as plt\n",
        "import seaborn as sns\n",
        "import numpy as np\n",
        "from hazm import Normalizer, sent_tokenize,word_tokenize,Lemmatizer,Stemmer\n",
        "from sklearn.feature_extraction.text import TfidfVectorizer\n",
        "from sklearn import datasets\n",
        "import pandas as pd \n",
        "from sklearn.preprocessing import StandardScaler \n",
        "from sklearn.decomposition import PCA \n",
        "from sklearn.decomposition import TruncatedSVD\n",
        "from sklearn.model_selection import train_test_split\n",
        "from sklearn.linear_model import LogisticRegression\n",
        "from sklearn.metrics import f1_score, accuracy_score, confusion_matrix\n",
        "import codecs"
      ]
    },
    {
      "cell_type": "code",
      "execution_count": 7,
      "metadata": {
        "id": "es4Sdz8svC02"
      },
      "outputs": [],
      "source": [
        "divar_df = pd.read_csv('divar_sample_50k.csv')"
      ]
    },
    {
      "cell_type": "markdown",
      "source": [
        "## Non-Uniform data distribution example"
      ],
      "metadata": {
        "id": "TnCijgKKml5B"
      }
    },
    {
      "cell_type": "code",
      "execution_count": 8,
      "metadata": {
        "id": "Ls5ASLBjvC02"
      },
      "outputs": [],
      "source": [
        "non_uniform_sample_df = divar_df[np.setdiff1d(divar_df.columns, ['level_0'])].sample(n=10000).reset_index()"
      ]
    },
    {
      "cell_type": "code",
      "execution_count": 9,
      "metadata": {
        "id": "Z4OoYA4NvC03"
      },
      "outputs": [],
      "source": [
        "non_uniform_input_x = non_uniform_sample_df[np.setdiff1d(divar_df.columns, ['cat1'])]\n",
        "non_uniform_output_y = non_uniform_sample_df['cat1']"
      ]
    },
    {
      "cell_type": "markdown",
      "source": [
        "### Plot data distribution"
      ],
      "metadata": {
        "id": "msLod1slmvrS"
      }
    },
    {
      "cell_type": "code",
      "execution_count": 10,
      "metadata": {
        "colab": {
          "base_uri": "https://localhost:8080/",
          "height": 559
        },
        "id": "7nMIjgXlvC03",
        "outputId": "24d96818-4be3-4a4c-a102-26afced784c2"
      },
      "outputs": [
        {
          "output_type": "execute_result",
          "data": {
            "text/plain": [
              "<Axes: xlabel='cat1', ylabel='Count'>"
            ]
          },
          "metadata": {},
          "execution_count": 10
        },
        {
          "output_type": "display_data",
          "data": {
            "text/plain": [
              "<Figure size 1000x600 with 1 Axes>"
            ],
            "image/png": "[encoded data removed]"
          },
          "metadata": {}
        }
      ],
      "source": [
        "f, ax = plt.subplots(figsize=(10,6))\n",
        "sns.histplot(data = non_uniform_output_y)"
      ]
    },
    {
      "cell_type": "markdown",
      "source": [
        "### show correlation between each attribute"
      ],
      "metadata": {
        "id": "_OFH6yn7m24B"
      }
    },
    {
      "cell_type": "code",
      "execution_count": 11,
      "metadata": {
        "colab": {
          "base_uri": "https://localhost:8080/",
          "height": 590
        },
        "id": "ZP-9FnxcvC04",
        "outputId": "a84aaa37-ccb9-4b56-b939-164b41fb7142"
      },
      "outputs": [
        {
          "output_type": "stream",
          "name": "stderr",
          "text": [
            "<ipython-input-11-026c477b4cff>:2: FutureWarning: The default value of numeric_only in DataFrame.corr is deprecated. In a future version, it will default to False. Select only valid columns or specify the value of numeric_only to silence this warning.\n",
            "  corr = non_uniform_input_x.corr()\n",
            "<ipython-input-11-026c477b4cff>:3: FutureWarning: The default value of numeric_only in DataFrame.corr is deprecated. In a future version, it will default to False. Select only valid columns or specify the value of numeric_only to silence this warning.\n",
            "  mask = np.triu(non_uniform_input_x.corr())\n"
          ]
        },
        {
          "output_type": "execute_result",
          "data": {
            "text/plain": [
              "<Axes: >"
            ]
          },
          "metadata": {},
          "execution_count": 11
        },
        {
          "output_type": "display_data",
          "data": {
            "text/plain": [
              "<Figure size 500x500 with 2 Axes>"
            ],
            "image/png": "[encoded data removed]"
          },
          "metadata": {}
        }
      ],
      "source": [
        "sns.set_theme(style=\"white\")\n",
        "corr = non_uniform_input_x.corr()\n",
        "mask = np.triu(non_uniform_input_x.corr())\n",
        "f, ax = plt.subplots(figsize=(5, 5))\n",
        "cmap = sns.color_palette(\"Blues\")\n",
        "\n",
        "sns.heatmap(corr, \n",
        "            mask=mask, \n",
        "            cmap=cmap, \n",
        "            vmax=.3, \n",
        "            center=0,\n",
        "            square=True, \n",
        "            linewidths=3, \n",
        "            cbar_kws={\"shrink\": .5}\n",
        "           )"
      ]
    },
    {
      "cell_type": "markdown",
      "metadata": {
        "id": "gJJr8joRvC07"
      },
      "source": [
        "### Preprocessing non numeric data\n",
        "\n",
        "removing stopwords"
      ]
    },
    {
      "cell_type": "code",
      "execution_count": 12,
      "metadata": {
        "id": "Jm7t7_OAvC07"
      },
      "outputs": [],
      "source": [
        "normalizer = Normalizer()\n",
        "stopwords = [normalizer.normalize(x.strip()) for x in codecs.open(\n",
        "    'stopwords.txt', 'r', 'utf-8').readlines()]\n",
        "stopwords.extend(['تماس', 'تلگرام', 'واتساپ', 'با سلام', 'سلام', 'فروش', 'فوری',\n",
        "                 'قیمت', 'مقطوع', 'تخفیف', 'نو', 'در حد نو', 'خرید', 'اقساطی', 'تحویل', 'اقساط'])"
      ]
    },
    {
      "cell_type": "code",
      "execution_count": 13,
      "metadata": {
        "colab": {
          "base_uri": "https://localhost:8080/"
        },
        "id": "-FasCLYdvC08",
        "outputId": "7665f689-f03f-4371-cfd2-a1b281fd3e32"
      },
      "outputs": [
        {
          "output_type": "stream",
          "name": "stderr",
          "text": [
            "<ipython-input-13-8ac22056d9fe>:3: SettingWithCopyWarning: \n",
            "A value is trying to be set on a copy of a slice from a DataFrame\n",
            "\n",
            "See the caveats in the documentation: https://pandas.pydata.org/pandas-docs/stable/user_guide/indexing.html#returning-a-view-versus-a-copy\n",
            "  non_uniform_input_x['desc'][idx] = '  '.join([str(elem) for elem in [t for t in word_tokenize(sent) if t not in stopwords]])\n"
          ]
        },
        {
          "output_type": "stream",
          "name": "stdout",
          "text": [
            "0\n",
            "1000\n",
            "2000\n",
            "3000\n",
            "4000\n",
            "5000\n",
            "6000\n",
            "7000\n",
            "8000\n",
            "9000\n"
          ]
        }
      ],
      "source": [
        "for idx , sent in enumerate(non_uniform_input_x['desc']):\n",
        "    sent = sent.replace('$NUM' , ' ')\n",
        "    non_uniform_input_x['desc'][idx] = '  '.join([str(elem) for elem in [t for t in word_tokenize(sent) if t not in stopwords]])\n",
        "    if idx % 1000 == 0:\n",
        "      print(idx)"
      ]
    },
    {
      "cell_type": "code",
      "source": [
        "for idx , sent in enumerate(non_uniform_input_x['title']):\n",
        "    sent = normalizer.normalize(sent)\n",
        "    non_uniform_input_x['title'][idx] = '  '.join([str(elem) for elem in [t for t in word_tokenize(sent) if t not in stopwords]])\n",
        "    if idx % 1000 == 0:\n",
        "      print(idx)"
      ],
      "metadata": {
        "colab": {
          "base_uri": "https://localhost:8080/"
        },
        "id": "1k9_G0ePwWj2",
        "outputId": "52cd9d45-6d4e-4d50-8da7-a790a80ec19e"
      },
      "execution_count": 14,
      "outputs": [
        {
          "output_type": "stream",
          "name": "stderr",
          "text": [
            "<ipython-input-14-24f9c9c21664>:3: SettingWithCopyWarning: \n",
            "A value is trying to be set on a copy of a slice from a DataFrame\n",
            "\n",
            "See the caveats in the documentation: https://pandas.pydata.org/pandas-docs/stable/user_guide/indexing.html#returning-a-view-versus-a-copy\n",
            "  non_uniform_input_x['title'][idx] = '  '.join([str(elem) for elem in [t for t in word_tokenize(sent) if t not in stopwords]])\n"
          ]
        },
        {
          "output_type": "stream",
          "name": "stdout",
          "text": [
            "0\n",
            "1000\n",
            "2000\n",
            "3000\n",
            "4000\n",
            "5000\n",
            "6000\n",
            "7000\n",
            "8000\n",
            "9000\n"
          ]
        }
      ]
    },
    {
      "cell_type": "markdown",
      "metadata": {
        "id": "MIQRccmzvC08"
      },
      "source": [
        "### TF-IDF & TSVD"
      ]
    },
    {
      "cell_type": "code",
      "execution_count": 15,
      "metadata": {
        "id": "Zey2ojJDvC09"
      },
      "outputs": [],
      "source": [
        "normalizer = Normalizer()\n",
        "scalar = StandardScaler()\n",
        "numeric_scaled_features = pd.DataFrame(scalar.fit_transform(non_uniform_input_x[['price']]) , columns=['price'])"
      ]
    },
    {
      "cell_type": "code",
      "execution_count": 16,
      "metadata": {
        "colab": {
          "base_uri": "https://localhost:8080/"
        },
        "id": "AAovvM2gvC09",
        "outputId": "e82caf6a-a470-403e-9b85-e95ae59b367a"
      },
      "outputs": [
        {
          "output_type": "stream",
          "name": "stderr",
          "text": [
            "/usr/local/lib/python3.9/dist-packages/sklearn/feature_extraction/text.py:528: UserWarning: The parameter 'token_pattern' will not be used since 'tokenizer' is not None'\n",
            "  warnings.warn(\n"
          ]
        }
      ],
      "source": [
        "tfidf_generator = TfidfVectorizer(ngram_range=(1, 1), norm='l2', use_idf=True, preprocessor=normalizer.normalize, tokenizer=word_tokenize)\n",
        "desc_tfidt_matrix = tfidf_generator.fit_transform(non_uniform_input_x['desc'])"
      ]
    },
    {
      "cell_type": "code",
      "execution_count": 17,
      "metadata": {
        "id": "IXzmxhVrvC09"
      },
      "outputs": [],
      "source": [
        "tfidf_generator = TfidfVectorizer(ngram_range=(1, 1), norm='l2', use_idf=True, preprocessor=normalizer.normalize, tokenizer=word_tokenize)\n",
        "title_tfidt_matrix = tfidf_generator.fit_transform(non_uniform_input_x['title'])"
      ]
    },
    {
      "cell_type": "code",
      "execution_count": 18,
      "metadata": {
        "id": "o1twN3xevC09"
      },
      "outputs": [],
      "source": [
        "svd = TruncatedSVD(n_components=100, n_iter=7)\n",
        "svd.fit(desc_tfidt_matrix)\n",
        "desc_data_svd = svd.transform(desc_tfidt_matrix)\n",
        "desc_data_svd = pd.DataFrame(desc_data_svd, columns=[i for i in range(0,100)])"
      ]
    },
    {
      "cell_type": "code",
      "execution_count": 19,
      "metadata": {
        "id": "cxXJO3GBvC09"
      },
      "outputs": [],
      "source": [
        "svd = TruncatedSVD(n_components=100, n_iter=7)\n",
        "svd.fit(title_tfidt_matrix)\n",
        "title_data_svd = svd.transform(title_tfidt_matrix)\n",
        "title_data_svd = pd.DataFrame(title_data_svd, columns=[i for i in range(100,200)])"
      ]
    },
    {
      "cell_type": "code",
      "execution_count": 20,
      "metadata": {
        "id": "a2-CsejivC0-"
      },
      "outputs": [],
      "source": [
        "non_uniform_input_x = pd.concat([desc_data_svd , title_data_svd , numeric_scaled_features], axis=1) \n",
        "\n",
        "all_data_df = pd.concat([non_uniform_input_x ,non_uniform_output_y], axis=1) \n",
        "all_data_df.to_csv('tfidf_tsvd_non_uniform_df.csv')"
      ]
    },
    {
      "cell_type": "markdown",
      "metadata": {
        "id": "QA7qPjDUvC0-"
      },
      "source": [
        "### Model Selection and train it\n",
        "Logistic Regression"
      ]
    },
    {
      "cell_type": "code",
      "source": [
        "def conf_matrix(y_test, pred_test):    \n",
        "    \n",
        "    # Creating a confusion matrix\n",
        "    con_mat = confusion_matrix(y_test, pred_test)\n",
        "    con_mat = pd.DataFrame(con_mat, range(6), range(6))\n",
        "   \n",
        "    #Ploting the confusion matrix\n",
        "    plt.figure(figsize=(6,6))\n",
        "    sns.set(font_scale=1.5) \n",
        "    sns.heatmap(con_mat, annot=True, annot_kws={\"size\": 16}, fmt='g', cmap='Blues', cbar=False)"
      ],
      "metadata": {
        "id": "gagqNhTTujVA"
      },
      "execution_count": 39,
      "outputs": []
    },
    {
      "cell_type": "code",
      "execution_count": 40,
      "metadata": {
        "id": "8p2d9zckvC0-"
      },
      "outputs": [],
      "source": [
        "non_uniform_input_x.columns = non_uniform_input_x.columns.astype(str)\n",
        "X_train, X_test, y_train, y_test = train_test_split(non_uniform_input_x, non_uniform_output_y, test_size=0.25, random_state=16)"
      ]
    },
    {
      "cell_type": "code",
      "execution_count": 44,
      "metadata": {
        "id": "PXvnJC4ivC0-",
        "colab": {
          "base_uri": "https://localhost:8080/"
        },
        "outputId": "ed310152-29bc-4d45-afda-e056242ce50b"
      },
      "outputs": [
        {
          "output_type": "stream",
          "name": "stderr",
          "text": [
            "/usr/local/lib/python3.9/dist-packages/sklearn/linear_model/_logistic.py:458: ConvergenceWarning: lbfgs failed to converge (status=1):\n",
            "STOP: TOTAL NO. of ITERATIONS REACHED LIMIT.\n",
            "\n",
            "Increase the number of iterations (max_iter) or scale the data as shown in:\n",
            "    https://scikit-learn.org/stable/modules/preprocessing.html\n",
            "Please also refer to the documentation for alternative solver options:\n",
            "    https://scikit-learn.org/stable/modules/linear_model.html#logistic-regression\n",
            "  n_iter_i = _check_optimize_result(\n"
          ]
        }
      ],
      "source": [
        "logreg = LogisticRegression(random_state=16)\n",
        "logreg.fit(X_train, y_train)\n",
        "\n",
        "y_pred = logreg.predict(X_test)"
      ]
    },
    {
      "cell_type": "code",
      "source": [
        "#Calculating and printing the f1 score \n",
        "f1_test = f1_score(y_test, y_pred , average='macro')\n",
        "print('The f1 score for the testing data:', f1_test)\n",
        "\n",
        "#Ploting the confusion matrix\n",
        "conf_matrix(y_test, y_pred)"
      ],
      "metadata": {
        "colab": {
          "base_uri": "https://localhost:8080/",
          "height": 552
        },
        "id": "1fr9sY7RusHo",
        "outputId": "6b491291-f674-46eb-ffb4-b43df406875e"
      },
      "execution_count": 45,
      "outputs": [
        {
          "output_type": "stream",
          "name": "stdout",
          "text": [
            "The f1 score for the testing data: 0.7271701059734088\n"
          ]
        },
        {
          "output_type": "display_data",
          "data": {
            "text/plain": [
              "<Figure size 600x600 with 1 Axes>"
            ],
            "image/png": "[encoded data removed]"
          },
          "metadata": {}
        }
      ]
    },
    {
      "cell_type": "code",
      "execution_count": 43,
      "metadata": {
        "colab": {
          "base_uri": "https://localhost:8080/"
        },
        "id": "pveZuSPdvC0-",
        "outputId": "104467d5-b37c-448a-f9ab-083cbd347fe5"
      },
      "outputs": [
        {
          "output_type": "execute_result",
          "data": {
            "text/plain": [
              "0.7596"
            ]
          },
          "metadata": {},
          "execution_count": 43
        }
      ],
      "source": [
        "accuracy_score(y_test, y_pred)"
      ]
    },
    {
      "cell_type": "markdown",
      "source": [
        "## Uniform Distribution\n",
        "the flow of codes is as same as the non uniform example"
      ],
      "metadata": {
        "id": "FG6KDJ3p7GRv"
      }
    },
    {
      "cell_type": "code",
      "source": [
        "uniform_sample_df = divar_df[np.setdiff1d(divar_df.columns, ['level_0'])].sample(n = 10000, weights =(1/(divar_df.groupby('cat1')['cat1'].transform('count')/len(divar_df['cat1'])))).reset_index()"
      ],
      "metadata": {
        "id": "xI6l5b9U7FlH"
      },
      "execution_count": 24,
      "outputs": []
    },
    {
      "cell_type": "code",
      "source": [
        "uniform_input_x = uniform_sample_df[np.setdiff1d(divar_df.columns, ['cat1'])]\n",
        "uniform_output_y = uniform_sample_df['cat1']"
      ],
      "metadata": {
        "id": "WuJqKtsL8Un2"
      },
      "execution_count": 25,
      "outputs": []
    },
    {
      "cell_type": "code",
      "source": [
        "f, ax = plt.subplots(figsize=(10,6))\n",
        "sns.histplot(data = uniform_output_y)"
      ],
      "metadata": {
        "colab": {
          "base_uri": "https://localhost:8080/",
          "height": 567
        },
        "id": "r_PNWXZd8kqe",
        "outputId": "77766817-bec8-4b21-ead4-3b3c37d9d26e"
      },
      "execution_count": 26,
      "outputs": [
        {
          "output_type": "execute_result",
          "data": {
            "text/plain": [
              "<Axes: xlabel='cat1', ylabel='Count'>"
            ]
          },
          "metadata": {},
          "execution_count": 26
        },
        {
          "output_type": "display_data",
          "data": {
            "text/plain": [
              "<Figure size 1000x600 with 1 Axes>"
            ],
            "image/png": "[encoded data removed]"
          },
          "metadata": {}
        }
      ]
    },
    {
      "cell_type": "code",
      "source": [
        "for idx , sent in enumerate(uniform_input_x['desc']):\n",
        "    sent = sent.replace('$NUM' , ' ')\n",
        "    uniform_input_x['desc'][idx] = '  '.join([str(elem) for elem in [t for t in word_tokenize(sent) if t not in stopwords]])\n",
        "    if idx % 1000 == 0:\n",
        "      print(idx)"
      ],
      "metadata": {
        "colab": {
          "base_uri": "https://localhost:8080/"
        },
        "id": "5Mhc83yT8xOe",
        "outputId": "691b270e-6111-42c5-8a85-cce7a9c564d5"
      },
      "execution_count": 27,
      "outputs": [
        {
          "output_type": "stream",
          "name": "stderr",
          "text": [
            "<ipython-input-27-5941caa7683c>:3: SettingWithCopyWarning: \n",
            "A value is trying to be set on a copy of a slice from a DataFrame\n",
            "\n",
            "See the caveats in the documentation: https://pandas.pydata.org/pandas-docs/stable/user_guide/indexing.html#returning-a-view-versus-a-copy\n",
            "  uniform_input_x['desc'][idx] = '  '.join([str(elem) for elem in [t for t in word_tokenize(sent) if t not in stopwords]])\n"
          ]
        },
        {
          "output_type": "stream",
          "name": "stdout",
          "text": [
            "0\n",
            "1000\n",
            "2000\n",
            "3000\n",
            "4000\n",
            "5000\n",
            "6000\n",
            "7000\n",
            "8000\n",
            "9000\n"
          ]
        }
      ]
    },
    {
      "cell_type": "code",
      "source": [
        "for idx , sent in enumerate(uniform_input_x['title']):\n",
        "    sent = normalizer.normalize(sent)\n",
        "    uniform_input_x['title'][idx] = '  '.join([str(elem) for elem in [t for t in word_tokenize(sent) if t not in stopwords]])\n",
        "    if idx % 1000 == 0:\n",
        "      print(idx)"
      ],
      "metadata": {
        "colab": {
          "base_uri": "https://localhost:8080/"
        },
        "id": "JO0LGS9H8z-u",
        "outputId": "e32a339f-2167-4640-abe4-42b7ff69826e"
      },
      "execution_count": 28,
      "outputs": [
        {
          "output_type": "stream",
          "name": "stderr",
          "text": [
            "<ipython-input-28-b81e222e959a>:3: SettingWithCopyWarning: \n",
            "A value is trying to be set on a copy of a slice from a DataFrame\n",
            "\n",
            "See the caveats in the documentation: https://pandas.pydata.org/pandas-docs/stable/user_guide/indexing.html#returning-a-view-versus-a-copy\n",
            "  uniform_input_x['title'][idx] = '  '.join([str(elem) for elem in [t for t in word_tokenize(sent) if t not in stopwords]])\n"
          ]
        },
        {
          "output_type": "stream",
          "name": "stdout",
          "text": [
            "0\n",
            "1000\n",
            "2000\n",
            "3000\n",
            "4000\n",
            "5000\n",
            "6000\n",
            "7000\n",
            "8000\n",
            "9000\n"
          ]
        }
      ]
    },
    {
      "cell_type": "code",
      "source": [
        "normalizer = Normalizer()\n",
        "scalar = StandardScaler()\n",
        "numeric_scaled_features = pd.DataFrame(scalar.fit_transform(uniform_input_x[['price']]) , columns=['price'])"
      ],
      "metadata": {
        "id": "DH6Kitka85-m"
      },
      "execution_count": 29,
      "outputs": []
    },
    {
      "cell_type": "code",
      "source": [
        "tfidf_generator = TfidfVectorizer(ngram_range=(1, 1), norm='l2', use_idf=True, preprocessor=normalizer.normalize, tokenizer=word_tokenize)\n",
        "desc_tfidt_matrix = tfidf_generator.fit_transform(uniform_input_x['desc'])"
      ],
      "metadata": {
        "colab": {
          "base_uri": "https://localhost:8080/"
        },
        "id": "1o98casr8-Y4",
        "outputId": "a27eb3f8-38f7-48ef-b70c-945c44a0f7da"
      },
      "execution_count": 30,
      "outputs": [
        {
          "output_type": "stream",
          "name": "stderr",
          "text": [
            "/usr/local/lib/python3.9/dist-packages/sklearn/feature_extraction/text.py:528: UserWarning: The parameter 'token_pattern' will not be used since 'tokenizer' is not None'\n",
            "  warnings.warn(\n"
          ]
        }
      ]
    },
    {
      "cell_type": "code",
      "source": [
        "tfidf_generator = TfidfVectorizer(ngram_range=(1, 1), norm='l2', use_idf=True, preprocessor=normalizer.normalize, tokenizer=word_tokenize)\n",
        "title_tfidt_matrix = tfidf_generator.fit_transform(uniform_input_x['title'])"
      ],
      "metadata": {
        "id": "EBpE_jJp9Zoe"
      },
      "execution_count": 31,
      "outputs": []
    },
    {
      "cell_type": "code",
      "source": [
        "svd = TruncatedSVD(n_components=100, n_iter=7)\n",
        "svd.fit(desc_tfidt_matrix)\n",
        "desc_data_svd = svd.transform(desc_tfidt_matrix)\n",
        "desc_data_svd = pd.DataFrame(desc_data_svd, columns=[i for i in range(0,100)])"
      ],
      "metadata": {
        "id": "t2XUnCaP9ct9"
      },
      "execution_count": 32,
      "outputs": []
    },
    {
      "cell_type": "code",
      "source": [
        "svd = TruncatedSVD(n_components=100, n_iter=7)\n",
        "svd.fit(title_tfidt_matrix)\n",
        "title_data_svd = svd.transform(title_tfidt_matrix)\n",
        "title_data_svd = pd.DataFrame(title_data_svd, columns=[i for i in range(100,200)])"
      ],
      "metadata": {
        "id": "hA1UfZbs9gb_"
      },
      "execution_count": 33,
      "outputs": []
    },
    {
      "cell_type": "code",
      "source": [
        "uniform_input_x = pd.concat([desc_data_svd , title_data_svd , numeric_scaled_features], axis=1) \n",
        "\n",
        "all_uniform_data_df = pd.concat([uniform_input_x ,uniform_output_y], axis=1) \n",
        "all_uniform_data_df.to_csv('tfidf_tsvd_uniform_df.csv')"
      ],
      "metadata": {
        "id": "ZgTxEuV49iw_"
      },
      "execution_count": 34,
      "outputs": []
    },
    {
      "cell_type": "code",
      "source": [
        "uniform_input_x.columns = uniform_input_x.columns.astype(str)\n",
        "X_train, X_test, y_train, y_test = train_test_split(uniform_input_x, uniform_output_y, test_size=0.25, random_state=16)"
      ],
      "metadata": {
        "id": "L_Pk30qE9rzp"
      },
      "execution_count": 46,
      "outputs": []
    },
    {
      "cell_type": "code",
      "source": [
        "logreg = LogisticRegression(random_state=16)\n",
        "logreg.fit(X_train, y_train)\n",
        "\n",
        "y_pred = logreg.predict(X_test)"
      ],
      "metadata": {
        "colab": {
          "base_uri": "https://localhost:8080/"
        },
        "id": "Jc3AyNcn9vwv",
        "outputId": "1d6e9759-db24-429f-b2c4-97c67e875faf"
      },
      "execution_count": 47,
      "outputs": [
        {
          "output_type": "stream",
          "name": "stderr",
          "text": [
            "/usr/local/lib/python3.9/dist-packages/sklearn/linear_model/_logistic.py:458: ConvergenceWarning: lbfgs failed to converge (status=1):\n",
            "STOP: TOTAL NO. of ITERATIONS REACHED LIMIT.\n",
            "\n",
            "Increase the number of iterations (max_iter) or scale the data as shown in:\n",
            "    https://scikit-learn.org/stable/modules/preprocessing.html\n",
            "Please also refer to the documentation for alternative solver options:\n",
            "    https://scikit-learn.org/stable/modules/linear_model.html#logistic-regression\n",
            "  n_iter_i = _check_optimize_result(\n"
          ]
        }
      ]
    },
    {
      "cell_type": "code",
      "source": [
        "#Calculating and printing the f1 score \n",
        "f1_test = f1_score(y_test, y_pred , average='macro')\n",
        "print('The f1 score for the testing data:', f1_test)\n",
        "\n",
        "#Ploting the confusion matrix\n",
        "conf_matrix(y_test, y_pred)"
      ],
      "metadata": {
        "colab": {
          "base_uri": "https://localhost:8080/",
          "height": 552
        },
        "id": "YGC20A2YvJ_x",
        "outputId": "25856482-29a0-49be-ef2d-ac5d17485ba6"
      },
      "execution_count": 48,
      "outputs": [
        {
          "output_type": "stream",
          "name": "stdout",
          "text": [
            "The f1 score for the testing data: 0.7696173248319781\n"
          ]
        },
        {
          "output_type": "display_data",
          "data": {
            "text/plain": [
              "<Figure size 600x600 with 1 Axes>"
            ],
            "image/png": "[encoded data removed]"
          },
          "metadata": {}
        }
      ]
    },
    {
      "cell_type": "code",
      "source": [
        "accuracy_score(y_test, y_pred)"
      ],
      "metadata": {
        "colab": {
          "base_uri": "https://localhost:8080/"
        },
        "id": "czDnNB889x8B",
        "outputId": "e4a4ee48-ccdb-49f2-da79-b8226dd16ea3"
      },
      "execution_count": 37,
      "outputs": [
        {
          "output_type": "execute_result",
          "data": {
            "text/plain": [
              "0.7668"
            ]
          },
          "metadata": {},
          "execution_count": 37
        }
      ]
    },
    {
      "cell_type": "markdown",
      "source": [
        "https://medium.com/analytics-vidhya/how-to-web-scrape-data-from-infinite-scrolling-page-da02b3bd04dc"
      ],
      "metadata": {
        "id": "xYD284RcvSbl"
      }
    }
  ],
  "metadata": {
    "kernelspec": {
      "display_name": "base",
      "language": "python",
      "name": "python3"
    },
    "language_info": {
      "codemirror_mode": {
        "name": "ipython",
        "version": 3
      },
      "file_extension": ".py",
      "mimetype": "text/x-python",
      "name": "python",
      "nbconvert_exporter": "python",
      "pygments_lexer": "ipython3",
      "version": "3.9.12"
    },
    "orig_nbformat": 4,
    "colab": {
      "provenance": []
    }
  },
  "nbformat": 4,
  "nbformat_minor": 0
}