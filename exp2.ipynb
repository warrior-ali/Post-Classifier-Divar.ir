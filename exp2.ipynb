{
  "cells": [
    {
      "cell_type": "markdown",
      "source": [
        "# Experiment 2\n",
        "Code Overview :\n",
        "\n",
        "+ select three features manually. description - title - price\n",
        "+ tf-idf to get embedding of non numeric features\n",
        "+ manual feature selection for dimention reduction\n",
        "+ add class weight in logistic regression to solve imbalanced data distribution problem\n"
      ],
      "metadata": {
        "id": "pBTWI4xI63Zh"
      }
    },
    {
      "cell_type": "code",
      "source": [
        "!pip install hazm"
      ],
      "metadata": {
        "colab": {
          "base_uri": "https://localhost:8080/"
        },
        "id": "Lyz_tNx_o3qJ",
        "outputId": "9c8d8d21-0261-44a1-99e9-3bd646d639a2"
      },
      "execution_count": 1,
      "outputs": [
        {
          "output_type": "stream",
          "name": "stdout",
          "text": [
            "Looking in indexes: https://pypi.org/simple, https://us-python.pkg.dev/colab-wheels/public/simple/\n",
            "Collecting hazm\n",
            "  Downloading hazm-0.7.0-py3-none-any.whl (316 kB)\n",
            "\u001b[2K     \u001b[90m━━━━━━━━━━━━━━━━━━━━━━━━━━━━━━━━━━━━━━━\u001b[0m \u001b[32m316.7/316.7 kB\u001b[0m \u001b[31m5.5 MB/s\u001b[0m eta \u001b[36m0:00:00\u001b[0m\n",
            "\u001b[?25hCollecting libwapiti>=0.2.1\n",
            "  Downloading libwapiti-0.2.1.tar.gz (233 kB)\n",
            "\u001b[2K     \u001b[90m━━━━━━━━━━━━━━━━━━━━━━━━━━━━━━━━━━━━━━\u001b[0m \u001b[32m233.6/233.6 kB\u001b[0m \u001b[31m10.9 MB/s\u001b[0m eta \u001b[36m0:00:00\u001b[0m\n",
            "\u001b[?25h  Preparing metadata (setup.py) ... \u001b[?25l\u001b[?25hdone\n",
            "Collecting nltk==3.3\n",
            "  Downloading nltk-3.3.0.zip (1.4 MB)\n",
            "\u001b[2K     \u001b[90m━━━━━━━━━━━━━━━━━━━━━━━━━━━━━━━━━━━━━━━━\u001b[0m \u001b[32m1.4/1.4 MB\u001b[0m \u001b[31m37.1 MB/s\u001b[0m eta \u001b[36m0:00:00\u001b[0m\n",
            "\u001b[?25h  Preparing metadata (setup.py) ... \u001b[?25l\u001b[?25hdone\n",
            "Requirement already satisfied: six in /usr/local/lib/python3.9/dist-packages (from nltk==3.3->hazm) (1.16.0)\n",
            "Building wheels for collected packages: nltk, libwapiti\n",
            "  Building wheel for nltk (setup.py) ... \u001b[?25l\u001b[?25hdone\n",
            "  Created wheel for nltk: filename=nltk-3.3-py3-none-any.whl size=1394489 sha256=be554d7cabecd8dd95c2aa0f9ee253f1862b0e03022d508b94ea2e7d9696bc3a\n",
            "  Stored in directory: /root/.cache/pip/wheels/ac/62/f6/88933dadcd64a1614894614aa68cf57c4b8e5256acb650b1f1\n",
            "  Building wheel for libwapiti (setup.py) ... \u001b[?25l\u001b[?25hdone\n",
            "  Created wheel for libwapiti: filename=libwapiti-0.2.1-cp39-cp39-linux_x86_64.whl size=180376 sha256=e7d7beb6f55ee01ee6e8af770053d831808d0c989941b05a10afce2f6ca687a2\n",
            "  Stored in directory: /root/.cache/pip/wheels/8e/ff/82/9326b96f96f47472e02c453697b225813e4650c0ed4df2cd49\n",
            "Successfully built nltk libwapiti\n",
            "Installing collected packages: nltk, libwapiti, hazm\n",
            "  Attempting uninstall: nltk\n",
            "    Found existing installation: nltk 3.8.1\n",
            "    Uninstalling nltk-3.8.1:\n",
            "      Successfully uninstalled nltk-3.8.1\n",
            "Successfully installed hazm-0.7.0 libwapiti-0.2.1 nltk-3.3\n"
          ]
        }
      ]
    },
    {
      "cell_type": "code",
      "execution_count": 21,
      "metadata": {
        "id": "l3iDW6kSot4E"
      },
      "outputs": [],
      "source": [
        "import matplotlib.pyplot as plt\n",
        "import seaborn as sns\n",
        "import numpy as np\n",
        "from hazm import Normalizer, sent_tokenize,word_tokenize,Lemmatizer,Stemmer\n",
        "from sklearn.feature_extraction.text import TfidfVectorizer\n",
        "from sklearn import datasets\n",
        "import pandas as pd \n",
        "from sklearn.preprocessing import StandardScaler \n",
        "from sklearn.decomposition import PCA \n",
        "from sklearn.decomposition import TruncatedSVD\n",
        "from sklearn.model_selection import train_test_split\n",
        "from sklearn.linear_model import LogisticRegression\n",
        "from sklearn.metrics import f1_score, accuracy_score, confusion_matrix\n",
        "import codecs\n",
        "import torch"
      ]
    },
    {
      "cell_type": "code",
      "execution_count": 4,
      "metadata": {
        "id": "WVlLFAcyot4G"
      },
      "outputs": [],
      "source": [
        "divar_df = pd.read_csv('divar_sample_10k.csv')"
      ]
    },
    {
      "cell_type": "code",
      "execution_count": 5,
      "metadata": {
        "id": "Pkw1SrXlot4H"
      },
      "outputs": [],
      "source": [
        "input_x = divar_df[np.setdiff1d(divar_df.columns, ['cat1'])]\n",
        "output_y = divar_df['cat1']"
      ]
    },
    {
      "cell_type": "markdown",
      "source": [
        "### Preprocessing non numeric data\n",
        "\n",
        "removing stopwords"
      ],
      "metadata": {
        "id": "LYjeLS3m7qB3"
      }
    },
    {
      "cell_type": "code",
      "execution_count": 8,
      "metadata": {
        "id": "hxuEguUxot4K"
      },
      "outputs": [],
      "source": [
        "normalizer = Normalizer()\n",
        "stopwords = [normalizer.normalize(x.strip()) for x in codecs.open(\n",
        "    'stopwords.txt', 'r', 'utf-8').readlines()]\n",
        "stopwords.extend(['تماس', 'تلگرام', 'واتساپ', 'با سلام', 'سلام', 'فروش', 'فوری',\n",
        "                 'قیمت', 'مقطوع', 'تخفیف', 'نو', 'در حد نو', 'خرید', 'اقساطی', 'تحویل', 'اقساط'])"
      ]
    },
    {
      "cell_type": "code",
      "execution_count": 9,
      "metadata": {
        "colab": {
          "base_uri": "https://localhost:8080/"
        },
        "id": "pYl950qvot4K",
        "outputId": "a6163365-cc1d-4c97-ff40-7503a95b7bc5"
      },
      "outputs": [
        {
          "output_type": "stream",
          "name": "stderr",
          "text": [
            "<ipython-input-9-df67a86b757f>:3: SettingWithCopyWarning: \n",
            "A value is trying to be set on a copy of a slice from a DataFrame\n",
            "\n",
            "See the caveats in the documentation: https://pandas.pydata.org/pandas-docs/stable/user_guide/indexing.html#returning-a-view-versus-a-copy\n",
            "  input_x['desc'][idx] = '  '.join([str(elem) for elem in [t for t in word_tokenize(sent) if t not in stopwords]])\n"
          ]
        },
        {
          "output_type": "stream",
          "name": "stdout",
          "text": [
            "0\n",
            "1000\n",
            "2000\n",
            "3000\n",
            "4000\n",
            "5000\n",
            "6000\n",
            "7000\n",
            "8000\n",
            "9000\n"
          ]
        }
      ],
      "source": [
        "for idx , sent in enumerate(input_x['desc']):\n",
        "    sent = sent.replace('$NUM' , ' ')\n",
        "    input_x['desc'][idx] = '  '.join([str(elem) for elem in [t for t in word_tokenize(sent) if t not in stopwords]])\n",
        "    if idx % 1000 == 0:\n",
        "      print(idx)"
      ]
    },
    {
      "cell_type": "code",
      "execution_count": 10,
      "metadata": {
        "colab": {
          "base_uri": "https://localhost:8080/"
        },
        "id": "gc02FmeIot4L",
        "outputId": "6ac17b5d-07e4-47d3-f177-e4125d9036f4"
      },
      "outputs": [
        {
          "output_type": "stream",
          "name": "stderr",
          "text": [
            "<ipython-input-10-3e008e98ddc5>:3: SettingWithCopyWarning: \n",
            "A value is trying to be set on a copy of a slice from a DataFrame\n",
            "\n",
            "See the caveats in the documentation: https://pandas.pydata.org/pandas-docs/stable/user_guide/indexing.html#returning-a-view-versus-a-copy\n",
            "  input_x['title'][idx] = '  '.join([str(elem) for elem in [t for t in word_tokenize(sent) if t not in stopwords]])\n"
          ]
        },
        {
          "output_type": "stream",
          "name": "stdout",
          "text": [
            "0\n",
            "1000\n",
            "2000\n",
            "3000\n",
            "4000\n",
            "5000\n",
            "6000\n",
            "7000\n",
            "8000\n",
            "9000\n"
          ]
        }
      ],
      "source": [
        "for idx , sent in enumerate(input_x['title']):\n",
        "    sent = normalizer.normalize(sent)\n",
        "    input_x['title'][idx] = '  '.join([str(elem) for elem in [t for t in word_tokenize(sent) if t not in stopwords]])\n",
        "    if idx % 1000 == 0:\n",
        "      print(idx)"
      ]
    },
    {
      "cell_type": "code",
      "execution_count": 11,
      "metadata": {
        "id": "8_OjeKtmot4L"
      },
      "outputs": [],
      "source": [
        "normalizer = Normalizer()\n",
        "scalar = StandardScaler()\n",
        "numeric_scaled_features = pd.DataFrame(scalar.fit_transform(input_x[['price']]) , columns=['price'])"
      ]
    },
    {
      "cell_type": "markdown",
      "source": [
        "## Tf-idf\n"
      ],
      "metadata": {
        "id": "7eEy2-Lj7tf_"
      }
    },
    {
      "cell_type": "code",
      "execution_count": 12,
      "metadata": {
        "colab": {
          "base_uri": "https://localhost:8080/"
        },
        "id": "yw0YGahHot4L",
        "outputId": "b73f7e70-d037-4b57-a9fb-60223a4fe77e"
      },
      "outputs": [
        {
          "output_type": "stream",
          "name": "stderr",
          "text": [
            "/usr/local/lib/python3.9/dist-packages/sklearn/feature_extraction/text.py:528: UserWarning: The parameter 'token_pattern' will not be used since 'tokenizer' is not None'\n",
            "  warnings.warn(\n"
          ]
        }
      ],
      "source": [
        "tfidf_generator = TfidfVectorizer(ngram_range=(1, 1), norm='l2', use_idf=True, preprocessor=normalizer.normalize, tokenizer=word_tokenize)\n",
        "desc_tfidt_matrix = tfidf_generator.fit_transform(input_x['desc'])"
      ]
    },
    {
      "cell_type": "code",
      "execution_count": 13,
      "metadata": {
        "id": "dtYVG_2hot4M"
      },
      "outputs": [],
      "source": [
        "tfidf_generator = TfidfVectorizer(ngram_range=(1, 1), norm='l2', use_idf=True, preprocessor=normalizer.normalize, tokenizer=word_tokenize)\n",
        "title_tfidt_matrix = tfidf_generator.fit_transform(input_x['title'])"
      ]
    },
    {
      "cell_type": "markdown",
      "source": [
        "## select 100 feature that has most sum tf-idf value. "
      ],
      "metadata": {
        "id": "dt-VWtio70DI"
      }
    },
    {
      "cell_type": "code",
      "execution_count": 14,
      "metadata": {
        "id": "AlEbk5d_ot4M"
      },
      "outputs": [],
      "source": [
        "desc_df = pd.DataFrame(desc_tfidt_matrix.toarray())\n",
        "sums_words_tfidf = []\n",
        "for col in desc_df.columns:\n",
        "    sums_words_tfidf.append((col, desc_df[col].sum()))\n",
        "sorted_tfidf_desc = sorted(sums_words_tfidf, key=lambda x: x[1])[-100:]\n",
        "selected_tfidf_desc = desc_df[[col[0] for col in sorted_tfidf_desc]]\n",
        "\n",
        "selected_tfidf_desc.columns = [str(i) for i in range(0,100)]"
      ]
    },
    {
      "cell_type": "code",
      "execution_count": 15,
      "metadata": {
        "id": "DHyJlGhBot4M"
      },
      "outputs": [],
      "source": [
        "title_df = pd.DataFrame(title_tfidt_matrix.toarray())\n",
        "sums_words_tfidf = []\n",
        "for col in title_df.columns:\n",
        "    sums_words_tfidf.append((col, title_df[col].sum()))\n",
        "sorted_tfidf_title = sorted(sums_words_tfidf, key=lambda x: x[1])[-100:]\n",
        "selected_tfidf_titles = title_df[[col[0] for col in sorted_tfidf_title]]\n",
        "\n",
        "selected_tfidf_titles.columns = [str(i) for i in range(100,200)]"
      ]
    },
    {
      "cell_type": "code",
      "execution_count": 16,
      "metadata": {
        "id": "KIdaKMyjot4N"
      },
      "outputs": [],
      "source": [
        "input_x = pd.concat([selected_tfidf_desc , selected_tfidf_titles , numeric_scaled_features], axis=1) "
      ]
    },
    {
      "cell_type": "code",
      "source": [
        "all_data_df = pd.concat([input_x ,output_y], axis=1) \n",
        "all_data_df.to_csv('tfidf_manual_dim_reduction_df.csv')"
      ],
      "metadata": {
        "id": "_FWgLbOAqPhK"
      },
      "execution_count": 17,
      "outputs": []
    },
    {
      "cell_type": "markdown",
      "source": [
        "### Model Selection and train it\n",
        "Logistic Regression"
      ],
      "metadata": {
        "id": "G17BoNKJ9Upr"
      }
    },
    {
      "cell_type": "code",
      "execution_count": 18,
      "metadata": {
        "id": "shuCjvqpot4N"
      },
      "outputs": [],
      "source": [
        "input_x.columns = input_x.columns.astype(str)\n",
        "X_train, X_test, y_train, y_test = train_test_split(input_x, output_y, test_size=0.25, random_state=16)"
      ]
    },
    {
      "cell_type": "code",
      "execution_count": 38,
      "metadata": {
        "colab": {
          "base_uri": "https://localhost:8080/"
        },
        "id": "1hhI5WW6ot4N",
        "outputId": "b9187b78-a6b6-4a68-dfe8-8fb630a13638"
      },
      "outputs": [
        {
          "output_type": "stream",
          "name": "stderr",
          "text": [
            "/usr/local/lib/python3.9/dist-packages/sklearn/linear_model/_logistic.py:458: ConvergenceWarning: lbfgs failed to converge (status=1):\n",
            "STOP: TOTAL NO. of ITERATIONS REACHED LIMIT.\n",
            "\n",
            "Increase the number of iterations (max_iter) or scale the data as shown in:\n",
            "    https://scikit-learn.org/stable/modules/preprocessing.html\n",
            "Please also refer to the documentation for alternative solver options:\n",
            "    https://scikit-learn.org/stable/modules/linear_model.html#logistic-regression\n",
            "  n_iter_i = _check_optimize_result(\n"
          ]
        }
      ],
      "source": [
        "logreg = LogisticRegression(random_state=16)\n",
        "logreg.fit(X_train, y_train)\n",
        "\n",
        "y_pred = logreg.predict(X_test)"
      ]
    },
    {
      "cell_type": "markdown",
      "source": [
        "https://www.analyticsvidhya.com/blog/2020/10/improve-class-imbalance-class-weights/"
      ],
      "metadata": {
        "id": "6tYzPWZjwZ8Z"
      }
    },
    {
      "cell_type": "code",
      "source": [
        "def conf_matrix(y_test, pred_test):    \n",
        "    \n",
        "    # Creating a confusion matrix\n",
        "    con_mat = confusion_matrix(y_test, pred_test)\n",
        "    con_mat = pd.DataFrame(con_mat, range(6), range(6))\n",
        "   \n",
        "    #Ploting the confusion matrix\n",
        "    plt.figure(figsize=(6,6))\n",
        "    sns.set(font_scale=1.5) \n",
        "    sns.heatmap(con_mat, annot=True, annot_kws={\"size\": 16}, fmt='g', cmap='Blues', cbar=False)"
      ],
      "metadata": {
        "id": "lU7xga2RspGw"
      },
      "execution_count": 39,
      "outputs": []
    },
    {
      "cell_type": "code",
      "source": [
        "#Calculating and printing the f1 score \n",
        "f1_test = f1_score(y_test, y_pred , average='macro')\n",
        "print('The f1 score for the testing data:', f1_test)\n",
        "\n",
        "#Ploting the confusion matrix\n",
        "conf_matrix(y_test, y_pred)"
      ],
      "metadata": {
        "colab": {
          "base_uri": "https://localhost:8080/",
          "height": 552
        },
        "id": "Kk5S0OIhsb55",
        "outputId": "491a9e35-0d38-420c-a297-f4a9ba8d755d"
      },
      "execution_count": 40,
      "outputs": [
        {
          "output_type": "stream",
          "name": "stdout",
          "text": [
            "The f1 score for the testing data: 0.6087204742099432\n"
          ]
        },
        {
          "output_type": "display_data",
          "data": {
            "text/plain": [
              "<Figure size 600x600 with 1 Axes>"
            ],
            "image/png": "[encoded data removed]"
          },
          "metadata": {}
        }
      ]
    },
    {
      "cell_type": "code",
      "execution_count": 41,
      "metadata": {
        "colab": {
          "base_uri": "https://localhost:8080/"
        },
        "id": "hIYyuiF_ot4N",
        "outputId": "bc07b05c-035f-420f-c0f7-7ff39ba6dbfa"
      },
      "outputs": [
        {
          "output_type": "execute_result",
          "data": {
            "text/plain": [
              "0.7152"
            ]
          },
          "metadata": {},
          "execution_count": 41
        }
      ],
      "source": [
        "accuracy_score(y_test, y_pred)"
      ]
    },
    {
      "cell_type": "markdown",
      "source": [
        "  ## add class weight in logistic regression to solve imbalanced data distribution problem"
      ],
      "metadata": {
        "id": "xMUD1TP39fSY"
      }
    },
    {
      "cell_type": "code",
      "source": [
        "logreg = LogisticRegression(random_state=16 , class_weight='balanced')\n",
        "logreg.fit(X_train, y_train)\n",
        "\n",
        "y_pred = logreg.predict(X_test)"
      ],
      "metadata": {
        "colab": {
          "base_uri": "https://localhost:8080/"
        },
        "id": "ZdRMdBQjtaCJ",
        "outputId": "424b7c88-67c0-4d93-9dc2-1e6d83099847"
      },
      "execution_count": 42,
      "outputs": [
        {
          "output_type": "stream",
          "name": "stderr",
          "text": [
            "/usr/local/lib/python3.9/dist-packages/sklearn/linear_model/_logistic.py:458: ConvergenceWarning: lbfgs failed to converge (status=1):\n",
            "STOP: TOTAL NO. of ITERATIONS REACHED LIMIT.\n",
            "\n",
            "Increase the number of iterations (max_iter) or scale the data as shown in:\n",
            "    https://scikit-learn.org/stable/modules/preprocessing.html\n",
            "Please also refer to the documentation for alternative solver options:\n",
            "    https://scikit-learn.org/stable/modules/linear_model.html#logistic-regression\n",
            "  n_iter_i = _check_optimize_result(\n"
          ]
        }
      ]
    },
    {
      "cell_type": "code",
      "source": [
        "#Calculating and printing the f1 score \n",
        "f1_test = f1_score(y_test, y_pred , average='macro')\n",
        "print('The f1 score for the testing data:', f1_test)\n",
        "\n",
        "#Ploting the confusion matrix\n",
        "conf_matrix(y_test, y_pred)"
      ],
      "metadata": {
        "colab": {
          "base_uri": "https://localhost:8080/",
          "height": 552
        },
        "id": "nhyHjcSdtmA6",
        "outputId": "1cd0041e-5372-4536-d773-60a0091d0158"
      },
      "execution_count": 43,
      "outputs": [
        {
          "output_type": "stream",
          "name": "stdout",
          "text": [
            "The f1 score for the testing data: 0.61623224344191\n"
          ]
        },
        {
          "output_type": "display_data",
          "data": {
            "text/plain": [
              "<Figure size 600x600 with 1 Axes>"
            ],
            "image/png": "[encoded data removed]"
          },
          "metadata": {}
        }
      ]
    }
  ],
  "metadata": {
    "kernelspec": {
      "display_name": "base",
      "language": "python",
      "name": "python3"
    },
    "language_info": {
      "codemirror_mode": {
        "name": "ipython",
        "version": 3
      },
      "file_extension": ".py",
      "mimetype": "text/x-python",
      "name": "python",
      "nbconvert_exporter": "python",
      "pygments_lexer": "ipython3",
      "version": "3.9.12"
    },
    "orig_nbformat": 4,
    "colab": {
      "provenance": []
    }
  },
  "nbformat": 4,
  "nbformat_minor": 0
}